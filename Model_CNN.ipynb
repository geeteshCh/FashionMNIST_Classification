{
 "cells": [
  {
   "cell_type": "code",
   "execution_count": 1,
   "id": "f80a7f49",
   "metadata": {
    "colab": {
     "base_uri": "https://localhost:8080/"
    },
    "id": "f80a7f49",
    "outputId": "20fae8c6-8059-42aa-b470-8a56790186b3"
   },
   "outputs": [
    {
     "data": {
      "text/plain": [
       "<torch._C.Generator at 0x107457350>"
      ]
     },
     "execution_count": 1,
     "metadata": {},
     "output_type": "execute_result"
    }
   ],
   "source": [
    "import torch\n",
    "from torch import nn\n",
    "# from tqdm.auto import tqdm\n",
    "import torchvision\n",
    "from torchvision import transforms\n",
    "from torchvision.datasets import MNIST # Training dataset\n",
    "from torchvision.utils import make_grid\n",
    "from torch.utils.data import DataLoader\n",
    "import matplotlib.pyplot as plt\n",
    "import torchvision.models as models\n",
    "from torchsummary import summary\n",
    "torch.manual_seed(0) # Set for testing purposes, please do not change!"
   ]
  },
  {
   "cell_type": "code",
   "execution_count": 2,
   "id": "58cbefda",
   "metadata": {
    "id": "58cbefda"
   },
   "outputs": [],
   "source": [
    "# Define a simple CNN model for FashionMNIST with input size 1x28x28\n",
    "class CNN(nn.Module):\n",
    "    def __init__(self, num_classes=10):\n",
    "        super(CNN, self).__init__()\n",
    "        self.cnn = nn.Sequential(\n",
    "            self.make_cnn_block(1, 16, 3),\n",
    "            nn.MaxPool2d(2,2),\n",
    "            self.make_cnn_block(16, 32, 3),\n",
    "            self.make_cnn_block(32, 64, 3),\n",
    "            nn.MaxPool2d(2,2),\n",
    "            self.make_cnn_block(64, 128, 3,final_layer = True),\n",
    "        )\n",
    "        self.fnn = nn.Sequential(\n",
    "            nn.Linear(512,256),\n",
    "            nn.ReLU(inplace=True),\n",
    "            nn.Linear(256,128),\n",
    "            nn.ReLU(inplace=True),\n",
    "            nn.Linear(128,10)\n",
    "#             nn.Softmax()\n",
    "        )\n",
    "        # self.conv1 = nn.Conv2d(1, 16, kernel_size=3, padding=1)\n",
    "        # self.pool = nn.MaxPool2d(2, 2)\n",
    "        # self.conv2 = nn.Conv2d(16, 32, kernel_size=3, padding=1)\n",
    "        # self.pool = nn.MaxPool2d(2, 2)\n",
    "        # self.conv2 = nn.Conv2d(32, 64, kernel_size=3, padding=1)\n",
    "        # self.fc1 = nn.Linear(64 * 7 * 7, 128)\n",
    "        # self.fc2 = nn.Linear(128, num_classes)\n",
    "\n",
    "    def make_cnn_block(self, input_channels, output_channels, kernel_size=3, stride=1, padding = 0, final_layer=False):\n",
    "\n",
    "        if not final_layer:\n",
    "            return nn.Sequential(\n",
    "                nn.Conv2d(input_channels, output_channels, kernel_size=kernel_size, stride=stride, padding = padding),\n",
    "                nn.BatchNorm2d(output_channels),\n",
    "                nn.LeakyReLU(0.2, inplace=True)\n",
    "            )\n",
    "        else: # Final Layer\n",
    "            return nn.Sequential(\n",
    "                nn.Conv2d(input_channels, output_channels, kernel_size, stride)\n",
    "            )\n",
    "\n",
    "    def forward(self, x):\n",
    "        x = self.cnn(x)\n",
    "        x = x.view(x.size(0), -1)\n",
    "        return self.fnn(x)"
   ]
  },
  {
   "cell_type": "code",
   "execution_count": 3,
   "id": "1eee6080",
   "metadata": {
    "colab": {
     "base_uri": "https://localhost:8080/"
    },
    "id": "1eee6080",
    "outputId": "47f509fe-db82-408e-b37b-61003cb60d04"
   },
   "outputs": [
    {
     "name": "stdout",
     "output_type": "stream",
     "text": [
      "CNN(\n",
      "  (cnn): Sequential(\n",
      "    (0): Sequential(\n",
      "      (0): Conv2d(1, 16, kernel_size=(3, 3), stride=(1, 1))\n",
      "      (1): BatchNorm2d(16, eps=1e-05, momentum=0.1, affine=True, track_running_stats=True)\n",
      "      (2): LeakyReLU(negative_slope=0.2, inplace=True)\n",
      "    )\n",
      "    (1): MaxPool2d(kernel_size=2, stride=2, padding=0, dilation=1, ceil_mode=False)\n",
      "    (2): Sequential(\n",
      "      (0): Conv2d(16, 32, kernel_size=(3, 3), stride=(1, 1))\n",
      "      (1): BatchNorm2d(32, eps=1e-05, momentum=0.1, affine=True, track_running_stats=True)\n",
      "      (2): LeakyReLU(negative_slope=0.2, inplace=True)\n",
      "    )\n",
      "    (3): Sequential(\n",
      "      (0): Conv2d(32, 64, kernel_size=(3, 3), stride=(1, 1))\n",
      "      (1): BatchNorm2d(64, eps=1e-05, momentum=0.1, affine=True, track_running_stats=True)\n",
      "      (2): LeakyReLU(negative_slope=0.2, inplace=True)\n",
      "    )\n",
      "    (4): MaxPool2d(kernel_size=2, stride=2, padding=0, dilation=1, ceil_mode=False)\n",
      "    (5): Sequential(\n",
      "      (0): Conv2d(64, 128, kernel_size=(3, 3), stride=(1, 1))\n",
      "    )\n",
      "  )\n",
      "  (fnn): Sequential(\n",
      "    (0): Linear(in_features=512, out_features=256, bias=True)\n",
      "    (1): ReLU(inplace=True)\n",
      "    (2): Linear(in_features=256, out_features=128, bias=True)\n",
      "    (3): ReLU(inplace=True)\n",
      "    (4): Linear(in_features=128, out_features=10, bias=True)\n",
      "    (5): Softmax(dim=None)\n",
      "  )\n",
      ")\n"
     ]
    }
   ],
   "source": [
    "# Creating the model\n",
    "model = CNN()\n",
    "print(model)"
   ]
  },
  {
   "cell_type": "code",
   "execution_count": 4,
   "id": "d21WjtbdBUho",
   "metadata": {
    "colab": {
     "base_uri": "https://localhost:8080/"
    },
    "id": "d21WjtbdBUho",
    "outputId": "6f72e9c5-042d-4138-a1ec-cad616381a06"
   },
   "outputs": [
    {
     "name": "stdout",
     "output_type": "stream",
     "text": [
      "----------------------------------------------------------------\n",
      "        Layer (type)               Output Shape         Param #\n",
      "================================================================\n",
      "            Conv2d-1           [-1, 16, 26, 26]             160\n",
      "       BatchNorm2d-2           [-1, 16, 26, 26]              32\n",
      "         LeakyReLU-3           [-1, 16, 26, 26]               0\n",
      "         MaxPool2d-4           [-1, 16, 13, 13]               0\n",
      "            Conv2d-5           [-1, 32, 11, 11]           4,640\n",
      "       BatchNorm2d-6           [-1, 32, 11, 11]              64\n",
      "         LeakyReLU-7           [-1, 32, 11, 11]               0\n",
      "            Conv2d-8             [-1, 64, 9, 9]          18,496\n",
      "       BatchNorm2d-9             [-1, 64, 9, 9]             128\n",
      "        LeakyReLU-10             [-1, 64, 9, 9]               0\n",
      "        MaxPool2d-11             [-1, 64, 4, 4]               0\n",
      "           Conv2d-12            [-1, 128, 2, 2]          73,856\n",
      "           Linear-13                  [-1, 256]         131,328\n",
      "             ReLU-14                  [-1, 256]               0\n",
      "           Linear-15                  [-1, 128]          32,896\n",
      "             ReLU-16                  [-1, 128]               0\n",
      "           Linear-17                   [-1, 10]           1,290\n",
      "          Softmax-18                   [-1, 10]               0\n",
      "================================================================\n",
      "Total params: 262,890\n",
      "Trainable params: 262,890\n",
      "Non-trainable params: 0\n",
      "----------------------------------------------------------------\n",
      "Input size (MB): 0.00\n",
      "Forward/backward pass size (MB): 0.49\n",
      "Params size (MB): 1.00\n",
      "Estimated Total Size (MB): 1.50\n",
      "----------------------------------------------------------------\n"
     ]
    },
    {
     "name": "stderr",
     "output_type": "stream",
     "text": [
      "/Users/Geetesh/anaconda3/envs/work/lib/python3.11/site-packages/torch/nn/modules/module.py:1518: UserWarning: Implicit dimension choice for softmax has been deprecated. Change the call to include dim=X as an argument.\n",
      "  return self._call_impl(*args, **kwargs)\n"
     ]
    }
   ],
   "source": [
    "summary(model, (1,28,28))"
   ]
  },
  {
   "cell_type": "code",
   "execution_count": 5,
   "id": "3facaa5a",
   "metadata": {},
   "outputs": [],
   "source": [
    "import gzip\n",
    "import numpy as np\n",
    "\n",
    "def images(f):\n",
    "    with gzip.open(f, 'r') as f:\n",
    "        # first 4 bytes is a magic number\n",
    "        magic_number = int.from_bytes(f.read(4), 'big')\n",
    "        # second 4 bytes is the number of images\n",
    "        image_count = int.from_bytes(f.read(4), 'big')\n",
    "        # third 4 bytes is the row count\n",
    "        row_count = int.from_bytes(f.read(4), 'big')\n",
    "        # fourth 4 bytes is the column count\n",
    "        column_count = int.from_bytes(f.read(4), 'big')\n",
    "        # rest is the image pixel data, each pixel is stored as an unsigned byte\n",
    "        # pixel values are 0 to 255\n",
    "        image_data = f.read()\n",
    "        images = np.frombuffer(image_data, dtype=np.uint8)\\\n",
    "            .reshape((image_count, row_count, column_count))\n",
    "        return images\n",
    "\n",
    "def labels(f):\n",
    "    with gzip.open(f, 'r') as f:\n",
    "        # first 4 bytes is a magic number\n",
    "        magic_number = int.from_bytes(f.read(4), 'big')\n",
    "        # second 4 bytes is the number of labels\n",
    "        label_count = int.from_bytes(f.read(4), 'big')\n",
    "        # rest is the label data, each label is stored as unsigned byte\n",
    "        # label values are 0 to 9\n",
    "        label_data = f.read()\n",
    "        labels = np.frombuffer(label_data, dtype=np.uint8)\n",
    "        return labels"
   ]
  },
  {
   "cell_type": "code",
   "execution_count": 6,
   "id": "87c89b8a",
   "metadata": {},
   "outputs": [
    {
     "name": "stdout",
     "output_type": "stream",
     "text": [
      "(60000, 28, 28)\n",
      "(60000,)\n",
      "(10000, 28, 28)\n",
      "(10000,)\n",
      "[9 0 0 ... 3 0 5]\n"
     ]
    }
   ],
   "source": [
    "training_images = images('train-images-idx3-ubyte.gz')\n",
    "print(training_images.shape)\n",
    "training_labels = labels('train-labels-idx1-ubyte.gz')\n",
    "print(training_labels.shape)\n",
    "testing_images  = images('t10k-images-idx3-ubyte.gz')\n",
    "print(testing_images.shape)\n",
    "testing_labels  = labels('t10k-labels-idx1-ubyte.gz')\n",
    "print(testing_labels.shape)\n",
    "print(training_labels)"
   ]
  },
  {
   "cell_type": "code",
   "execution_count": 7,
   "id": "813a748a",
   "metadata": {},
   "outputs": [
    {
     "name": "stdout",
     "output_type": "stream",
     "text": [
      "Training matrix shape (60000, 1, 28, 28)\n",
      "Testing matrix shape (10000, 1, 28, 28)\n"
     ]
    }
   ],
   "source": [
    "X_train = training_images.reshape(-1,1,28,28)\n",
    "X_test  = testing_images.reshape(-1,1,28,28)\n",
    "\n",
    "# Change integers to 32-bit floating point numbers and normalize the datasets\n",
    "X_train = X_train.astype('float32')/255\n",
    "X_test = X_test.astype('float32')/255\n",
    "\n",
    "print(\"Training matrix shape\", X_train.shape)\n",
    "print(\"Testing matrix shape\", X_test.shape)"
   ]
  },
  {
   "cell_type": "code",
   "execution_count": 8,
   "id": "11630634",
   "metadata": {},
   "outputs": [],
   "source": [
    "import torch\n",
    "import torch.nn as nn\n",
    "import torch.optim as optim\n",
    "from torch.utils.data import TensorDataset, DataLoader\n",
    "import matplotlib.pyplot as plt\n",
    "from sklearn.model_selection import train_test_split\n",
    "\n",
    "X_train_torch = torch.tensor(X_train).float()\n",
    "training_labels_torch = torch.tensor(training_labels).long()\n",
    "X_test_torch = torch.tensor(X_test).float()\n",
    "testing_labels_torch = torch.tensor(testing_labels).long()\n",
    "\n",
    "\n",
    "\n",
    "# Splitting the dataset\n",
    "X_train, X_val, y_train, y_val = train_test_split(X_train_torch, training_labels_torch, stratify=training_labels, test_size=0.2, random_state=42)\n",
    "\n",
    "# Creating TensorDatasets and DataLoaders\n",
    "train_dataset = TensorDataset(X_train, y_train)\n",
    "val_dataset = TensorDataset(X_val, y_val)\n",
    "test_dataset = TensorDataset(X_test_torch,testing_labels_torch)\n",
    "\n",
    "batch_size = 32\n",
    "train_loader = DataLoader(train_dataset, batch_size=batch_size, shuffle=True)\n",
    "val_loader = DataLoader(val_dataset, batch_size=batch_size)\n",
    "test_loader = DataLoader(test_dataset, batch_size=batch_size)"
   ]
  },
  {
   "cell_type": "code",
   "execution_count": 9,
   "id": "94698931",
   "metadata": {},
   "outputs": [
    {
     "name": "stdout",
     "output_type": "stream",
     "text": [
      "torch.Size([32, 1, 28, 28]) torch.Size([32])\n"
     ]
    }
   ],
   "source": [
    "for x,y in train_loader:\n",
    "    print(x.shape,y.shape)\n",
    "    break"
   ]
  },
  {
   "cell_type": "code",
   "execution_count": 10,
   "id": "4d98323d",
   "metadata": {},
   "outputs": [],
   "source": [
    "# Define loss function and optimizer\n",
    "criterion = nn.CrossEntropyLoss()\n",
    "optimizer = optim.Adam(model.parameters())\n",
    "\n",
    "# Training loop\n",
    "num_epochs = 20\n",
    "train_losses = []\n",
    "val_losses = []\n",
    "train_accuracies = []\n",
    "val_accuracies = []\n",
    "best_val_accuracy = 0.0"
   ]
  },
  {
   "cell_type": "code",
   "execution_count": 11,
   "id": "d44703aa",
   "metadata": {},
   "outputs": [
    {
     "name": "stderr",
     "output_type": "stream",
     "text": [
      "/Users/Geetesh/anaconda3/envs/work/lib/python3.11/site-packages/torch/nn/modules/module.py:1518: UserWarning: Implicit dimension choice for softmax has been deprecated. Change the call to include dim=X as an argument.\n",
      "  return self._call_impl(*args, **kwargs)\n"
     ]
    },
    {
     "name": "stdout",
     "output_type": "stream",
     "text": [
      "Epoch [1/20], Training Loss: 1.7349, Validation Loss: 1.7259, Training Accuracy: 0.7266, Validation Accuracy: 0.7350\n",
      "Epoch [2/20], Training Loss: 1.7475, Validation Loss: 1.7127, Training Accuracy: 0.7134, Validation Accuracy: 0.7483\n",
      "Epoch [3/20], Training Loss: 1.7909, Validation Loss: 1.7709, Training Accuracy: 0.6701, Validation Accuracy: 0.6901\n",
      "Epoch [4/20], Training Loss: 1.7795, Validation Loss: 1.8229, Training Accuracy: 0.6816, Validation Accuracy: 0.6382\n",
      "Epoch [5/20], Training Loss: 1.7753, Validation Loss: 1.6980, Training Accuracy: 0.6858, Validation Accuracy: 0.7632\n",
      "Epoch [6/20], Training Loss: 1.7897, Validation Loss: 1.9471, Training Accuracy: 0.6714, Validation Accuracy: 0.5140\n",
      "Epoch [7/20], Training Loss: 1.8437, Validation Loss: 1.7677, Training Accuracy: 0.6175, Validation Accuracy: 0.6933\n",
      "Epoch [8/20], Training Loss: 1.7910, Validation Loss: 1.7650, Training Accuracy: 0.6702, Validation Accuracy: 0.6962\n",
      "Epoch [9/20], Training Loss: 1.7520, Validation Loss: 1.7207, Training Accuracy: 0.7091, Validation Accuracy: 0.7403\n",
      "Epoch [10/20], Training Loss: 1.8302, Validation Loss: 1.8202, Training Accuracy: 0.6309, Validation Accuracy: 0.6409\n",
      "Epoch [11/20], Training Loss: 1.7626, Validation Loss: 1.8133, Training Accuracy: 0.6985, Validation Accuracy: 0.6478\n",
      "Epoch [12/20], Training Loss: 1.8290, Validation Loss: 1.7947, Training Accuracy: 0.6321, Validation Accuracy: 0.6664\n",
      "Epoch [13/20], Training Loss: 1.7688, Validation Loss: 1.7378, Training Accuracy: 0.6923, Validation Accuracy: 0.7233\n",
      "Epoch [14/20], Training Loss: 1.7712, Validation Loss: 1.7677, Training Accuracy: 0.6899, Validation Accuracy: 0.6934\n",
      "Epoch [15/20], Training Loss: 1.7707, Validation Loss: 1.7753, Training Accuracy: 0.6904, Validation Accuracy: 0.6858\n",
      "Epoch [16/20], Training Loss: 1.7778, Validation Loss: 1.7691, Training Accuracy: 0.6834, Validation Accuracy: 0.6920\n",
      "Epoch [17/20], Training Loss: 1.7954, Validation Loss: 1.8474, Training Accuracy: 0.6657, Validation Accuracy: 0.6138\n",
      "Epoch [18/20], Training Loss: 1.7938, Validation Loss: 1.7759, Training Accuracy: 0.6674, Validation Accuracy: 0.6852\n",
      "Epoch [19/20], Training Loss: 1.7349, Validation Loss: 1.7190, Training Accuracy: 0.7263, Validation Accuracy: 0.7422\n",
      "Epoch [20/20], Training Loss: 1.7231, Validation Loss: 1.7690, Training Accuracy: 0.7380, Validation Accuracy: 0.6921\n"
     ]
    },
    {
     "data": {
      "image/png": "[encoded data removed]",
      "text/plain": [
       "<Figure size 1000x400 with 2 Axes>"
      ]
     },
     "metadata": {},
     "output_type": "display_data"
    }
   ],
   "source": [
    "for epoch in range(num_epochs):\n",
    "    model.train()\n",
    "    running_train_loss = 0.0\n",
    "    correct_train_preds = 0\n",
    "\n",
    "    for inputs, labels in train_loader:\n",
    "        optimizer.zero_grad()\n",
    "        outputs = model(inputs)\n",
    "        loss = criterion(outputs, labels)\n",
    "        loss.backward()\n",
    "        optimizer.step()\n",
    "\n",
    "        running_train_loss += loss.item() * inputs.size(0)\n",
    "        _, predicted = torch.max(outputs, 1)\n",
    "        correct_train_preds += (predicted == labels).sum().item()\n",
    "\n",
    "    epoch_train_loss = running_train_loss / len(train_loader.dataset)\n",
    "    train_losses.append(epoch_train_loss)\n",
    "\n",
    "    train_accuracy = correct_train_preds / len(train_dataset)\n",
    "    train_accuracies.append(train_accuracy)\n",
    "\n",
    "    # Validation\n",
    "    model.eval()\n",
    "    running_val_loss = 0.0\n",
    "    correct_val_preds = 0\n",
    "\n",
    "    with torch.no_grad():\n",
    "        for val_inputs, val_labels in val_loader:\n",
    "            val_outputs = model(val_inputs)\n",
    "            val_loss = criterion(val_outputs, val_labels)\n",
    "            running_val_loss += val_loss.item() * val_inputs.size(0)\n",
    "\n",
    "            _, predicted = torch.max(val_outputs, 1)\n",
    "            correct_val_preds += (predicted == val_labels).sum().item()\n",
    "\n",
    "    epoch_val_loss = running_val_loss / len(val_loader.dataset)\n",
    "    val_losses.append(epoch_val_loss)\n",
    "\n",
    "    val_accuracy = correct_val_preds / len(val_dataset)\n",
    "    val_accuracies.append(val_accuracy)\n",
    "\n",
    "    if val_accuracy > best_val_accuracy:\n",
    "        best_val_accuracy = val_accuracy\n",
    "        torch.save(model.state_dict(), 'best_cnn_model.pth')\n",
    "\n",
    "    print(f'Epoch [{epoch+1}/{num_epochs}], '\n",
    "          f'Training Loss: {epoch_train_loss:.4f}, '\n",
    "          f'Validation Loss: {epoch_val_loss:.4f}, '\n",
    "          f'Training Accuracy: {train_accuracy:.4f}, '\n",
    "          f'Validation Accuracy: {val_accuracy:.4f}')\n",
    "\n",
    "# Plotting training history\n",
    "plt.figure(figsize=(10, 4))\n",
    "plt.subplot(1, 2, 1)\n",
    "plt.plot(train_losses, label='Training Loss')\n",
    "plt.plot(val_losses, label='Validation Loss')\n",
    "plt.xlabel('Epochs')\n",
    "plt.ylabel('Loss')\n",
    "plt.legend()\n",
    "\n",
    "plt.subplot(1, 2, 2)\n",
    "plt.plot(train_accuracies, label='Training Accuracy')\n",
    "plt.plot(val_accuracies, label='Validation Accuracy')\n",
    "plt.xlabel('Epochs')\n",
    "plt.ylabel('Accuracy')\n",
    "plt.legend()\n",
    "plt.tight_layout()\n",
    "plt.show()\n"
   ]
  },
  {
   "cell_type": "code",
   "execution_count": 12,
   "id": "ec063d52",
   "metadata": {},
   "outputs": [],
   "source": [
    "X_train = training_images.reshape(-1,1,28,28)\n",
    "X_test  = testing_images.reshape(-1,1,28,28)\n",
    "\n",
    "# Change integers to 32-bit floating point numbers and normalize the datasets\n",
    "X_train = X_train.astype('float32')/255"
   ]
  },
  {
   "cell_type": "code",
   "execution_count": 13,
   "id": "d2b7237c",
   "metadata": {},
   "outputs": [
    {
     "name": "stdout",
     "output_type": "stream",
     "text": [
      "Classification report for CNN on test dataset :\n",
      "              precision    recall  f1-score   support\n",
      "\n",
      "           0       0.62      0.86      0.72      1000\n",
      "           1       0.99      0.87      0.93      1000\n",
      "           2       0.59      0.73      0.65      1000\n",
      "           3       0.77      0.77      0.77      1000\n",
      "           4       0.56      0.75      0.64      1000\n",
      "           5       0.79      0.92      0.85      1000\n",
      "           6       0.00      0.00      0.00      1000\n",
      "           7       0.89      0.79      0.84      1000\n",
      "           8       0.89      0.93      0.91      1000\n",
      "           9       0.89      0.94      0.91      1000\n",
      "\n",
      "    accuracy                           0.76     10000\n",
      "   macro avg       0.70      0.76      0.72     10000\n",
      "weighted avg       0.70      0.76      0.72     10000\n",
      "\n",
      "\n",
      "\n",
      "Confusion Matrix on Test dataset:\n",
      "[[861   0  30  61  17  10   0   1  20   0]\n",
      " [ 12 873   1  95  12   4   0   0   3   0]\n",
      " [ 56   0 732  11 167  22   0   3   9   0]\n",
      " [ 92   0  25 767  96  12   0   1   6   1]\n",
      " [ 17   4 167  19 749  17   0   2  25   0]\n",
      " [  4   0   0  11   0 921   0  38   6  20]\n",
      " [329   0 271  25 297  34   0   2  42   0]\n",
      " [  0   0   0   0   0 109   0 794   3  94]\n",
      " [ 16   1  14   3   8  25   0   4 927   2]\n",
      " [  1   0   0   5   0  13   0  44   1 936]]\n"
     ]
    },
    {
     "name": "stderr",
     "output_type": "stream",
     "text": [
      "/Users/Geetesh/anaconda3/envs/work/lib/python3.11/site-packages/sklearn/metrics/_classification.py:1469: UndefinedMetricWarning: Precision and F-score are ill-defined and being set to 0.0 in labels with no predicted samples. Use `zero_division` parameter to control this behavior.\n",
      "  _warn_prf(average, modifier, msg_start, len(result))\n",
      "/Users/Geetesh/anaconda3/envs/work/lib/python3.11/site-packages/sklearn/metrics/_classification.py:1469: UndefinedMetricWarning: Precision and F-score are ill-defined and being set to 0.0 in labels with no predicted samples. Use `zero_division` parameter to control this behavior.\n",
      "  _warn_prf(average, modifier, msg_start, len(result))\n",
      "/Users/Geetesh/anaconda3/envs/work/lib/python3.11/site-packages/sklearn/metrics/_classification.py:1469: UndefinedMetricWarning: Precision and F-score are ill-defined and being set to 0.0 in labels with no predicted samples. Use `zero_division` parameter to control this behavior.\n",
      "  _warn_prf(average, modifier, msg_start, len(result))\n"
     ]
    }
   ],
   "source": [
    "from sklearn.metrics import confusion_matrix\n",
    "import sklearn.metrics as metrics\n",
    "\n",
    "\n",
    "# Load the trained model\n",
    " # Initialize your neural network class\n",
    "model.load_state_dict(torch.load('best_cnn_model.pth'))  # Load the saved best model weights\n",
    "\n",
    "model.eval()  # Set the model to evaluation mode\n",
    "\n",
    "predictions = []\n",
    "true_labels = []\n",
    "with torch.no_grad():\n",
    "    for inputs, labels in test_loader:\n",
    "        outputs = model(inputs)\n",
    "        _, predicted = torch.max(outputs, 1)\n",
    "        predictions.extend(predicted.tolist())\n",
    "        true_labels.extend(labels.tolist())\n",
    "\n",
    "# Calculate the confusion matrix and accuracy\n",
    "conf_matrix = confusion_matrix(true_labels, predictions)\n",
    "print(\"Classification report for CNN on test dataset :\\n%s\\n\"\n",
    "      % (metrics.classification_report(true_labels, predictions)))\n",
    "\n",
    "print(\"\\nConfusion Matrix on Test dataset:\")\n",
    "print(conf_matrix)"
   ]
  },
  {
   "cell_type": "code",
   "execution_count": null,
   "id": "1dc7ca7e",
   "metadata": {},
   "outputs": [],
   "source": []
  },
  {
   "cell_type": "code",
   "execution_count": null,
   "id": "3c91fc15",
   "metadata": {},
   "outputs": [],
   "source": []
  },
  {
   "cell_type": "code",
   "execution_count": null,
   "id": "eba83870",
   "metadata": {},
   "outputs": [],
   "source": []
  },
  {
   "cell_type": "code",
   "execution_count": null,
   "id": "d50aeafe",
   "metadata": {},
   "outputs": [],
   "source": []
  },
  {
   "cell_type": "code",
   "execution_count": null,
   "id": "9c36b6c8",
   "metadata": {},
   "outputs": [],
   "source": []
  },
  {
   "cell_type": "code",
   "execution_count": null,
   "id": "1e0eee79",
   "metadata": {},
   "outputs": [],
   "source": []
  },
  {
   "cell_type": "code",
   "execution_count": null,
   "id": "04c6ca2e",
   "metadata": {},
   "outputs": [],
   "source": []
  },
  {
   "cell_type": "code",
   "execution_count": null,
   "id": "62fa1f61",
   "metadata": {},
   "outputs": [],
   "source": []
  },
  {
   "cell_type": "code",
   "execution_count": 14,
   "id": "00618bea",
   "metadata": {},
   "outputs": [
    {
     "name": "stderr",
     "output_type": "stream",
     "text": [
      "/Users/Geetesh/anaconda3/envs/work/lib/python3.11/site-packages/torch/nn/modules/module.py:1518: UserWarning: Implicit dimension choice for softmax has been deprecated. Change the call to include dim=X as an argument.\n",
      "  return self._call_impl(*args, **kwargs)\n"
     ]
    },
    {
     "name": "stdout",
     "output_type": "stream",
     "text": [
      "Epoch [1, 1] loss: 0.017424002885818482, accuracy: 71.875%\n",
      "Epoch [1, 501] loss: 8.688861516714097, accuracy: 72.33033932135729%\n",
      "Epoch [1, 1001] loss: 8.787195260524749, accuracy: 71.35676823176823%\n",
      "Epoch [2, 1] loss: 0.01711150288581848, accuracy: 75.0%\n",
      "Epoch [2, 501] loss: 8.597442940473556, accuracy: 74.16417165668663%\n",
      "Epoch [2, 1001] loss: 8.892146062850951, accuracy: 71.2194055944056%\n",
      "Epoch [3, 1] loss: 0.017424002885818482, accuracy: 71.875%\n",
      "Epoch [3, 501] loss: 8.888680378198623, accuracy: 68.33832335329342%\n",
      "Epoch [3, 1001] loss: 9.30826999783516, accuracy: 64.15147352647352%\n",
      "Epoch [4, 1] loss: 0.01804900050163269, accuracy: 65.625%\n",
      "Epoch [4, 501] loss: 9.25709763288498, accuracy: 60.990518962075846%\n",
      "Epoch [4, 1001] loss: 9.282163034677506, accuracy: 60.72989510489511%\n",
      "Epoch [5, 1] loss: 0.018361504077911376, accuracy: 62.5%\n",
      "Epoch [5, 501] loss: 8.95462243437767, accuracy: 67.01596806387225%\n",
      "Epoch [5, 1001] loss: 9.130197656154632, accuracy: 65.26598401598402%\n",
      "Epoch [6, 1] loss: 0.019924004077911377, accuracy: 46.875%\n",
      "Epoch [6, 501] loss: 9.735000908374786, accuracy: 51.39720558882235%\n",
      "Epoch [6, 1001] loss: 9.908568623065948, accuracy: 49.66908091908092%\n",
      "Epoch [7, 1] loss: 0.019611505270004274, accuracy: 50.0%\n",
      "Epoch [7, 501] loss: 9.425334811210632, accuracy: 57.59106786427146%\n",
      "Epoch [7, 1001] loss: 9.607432023286819, accuracy: 55.781718281718284%\n",
      "Epoch [8, 1] loss: 0.020236506462097167, accuracy: 43.75%\n",
      "Epoch [8, 501] loss: 9.675839136838913, accuracy: 52.57609780439122%\n",
      "Epoch [8, 1001] loss: 9.936008117198945, accuracy: 49.98751248751249%\n",
      "Epoch [9, 1] loss: 0.019923962354660034, accuracy: 46.875%\n",
      "Epoch [9, 501] loss: 10.253953524827956, accuracy: 41.04291417165668%\n",
      "Epoch [9, 1001] loss: 9.804450567960739, accuracy: 45.52947052947053%\n",
      "Epoch [10, 1] loss: 0.019924001693725588, accuracy: 46.875%\n",
      "Epoch [10, 501] loss: 9.595437132120132, accuracy: 54.191616766467064%\n",
      "Epoch [10, 1001] loss: 9.734478919506072, accuracy: 52.80969030969031%\n",
      "Epoch [11, 1] loss: 0.019924004077911377, accuracy: 46.875%\n",
      "Epoch [11, 501] loss: 9.611515432596207, accuracy: 53.87350299401198%\n",
      "Epoch [11, 1001] loss: 9.614190592765809, accuracy: 53.8523976023976%\n",
      "Epoch [12, 1] loss: 0.019923999309539794, accuracy: 46.875%\n",
      "Epoch [12, 501] loss: 9.630601065158844, accuracy: 53.48677644710579%\n",
      "Epoch [12, 1001] loss: 10.37576981306076, accuracy: 46.050824175824175%\n",
      "Epoch [13, 1] loss: 0.020236501693725584, accuracy: 43.75%\n",
      "Epoch [13, 501] loss: 11.37731224656105, accuracy: 18.619011976047904%\n"
     ]
    },
    {
     "ename": "KeyboardInterrupt",
     "evalue": "",
     "output_type": "error",
     "traceback": [
      "\u001b[0;31m---------------------------------------------------------------------------\u001b[0m",
      "\u001b[0;31mKeyboardInterrupt\u001b[0m                         Traceback (most recent call last)",
      "Cell \u001b[0;32mIn[14], line 11\u001b[0m\n\u001b[1;32m      9\u001b[0m \u001b[38;5;66;03m# print(outputs)\u001b[39;00m\n\u001b[1;32m     10\u001b[0m loss \u001b[38;5;241m=\u001b[39m criterion(outputs, labels)\n\u001b[0;32m---> 11\u001b[0m loss\u001b[38;5;241m.\u001b[39mbackward()\n\u001b[1;32m     12\u001b[0m optimizer\u001b[38;5;241m.\u001b[39mstep()\n\u001b[1;32m     15\u001b[0m running_loss \u001b[38;5;241m+\u001b[39m\u001b[38;5;241m=\u001b[39m loss\u001b[38;5;241m.\u001b[39mitem()\n",
      "File \u001b[0;32m~/anaconda3/envs/work/lib/python3.11/site-packages/torch/_tensor.py:492\u001b[0m, in \u001b[0;36mTensor.backward\u001b[0;34m(self, gradient, retain_graph, create_graph, inputs)\u001b[0m\n\u001b[1;32m    482\u001b[0m \u001b[38;5;28;01mif\u001b[39;00m has_torch_function_unary(\u001b[38;5;28mself\u001b[39m):\n\u001b[1;32m    483\u001b[0m     \u001b[38;5;28;01mreturn\u001b[39;00m handle_torch_function(\n\u001b[1;32m    484\u001b[0m         Tensor\u001b[38;5;241m.\u001b[39mbackward,\n\u001b[1;32m    485\u001b[0m         (\u001b[38;5;28mself\u001b[39m,),\n\u001b[0;32m   (...)\u001b[0m\n\u001b[1;32m    490\u001b[0m         inputs\u001b[38;5;241m=\u001b[39minputs,\n\u001b[1;32m    491\u001b[0m     )\n\u001b[0;32m--> 492\u001b[0m torch\u001b[38;5;241m.\u001b[39mautograd\u001b[38;5;241m.\u001b[39mbackward(\n\u001b[1;32m    493\u001b[0m     \u001b[38;5;28mself\u001b[39m, gradient, retain_graph, create_graph, inputs\u001b[38;5;241m=\u001b[39minputs\n\u001b[1;32m    494\u001b[0m )\n",
      "File \u001b[0;32m~/anaconda3/envs/work/lib/python3.11/site-packages/torch/autograd/__init__.py:251\u001b[0m, in \u001b[0;36mbackward\u001b[0;34m(tensors, grad_tensors, retain_graph, create_graph, grad_variables, inputs)\u001b[0m\n\u001b[1;32m    246\u001b[0m     retain_graph \u001b[38;5;241m=\u001b[39m create_graph\n\u001b[1;32m    248\u001b[0m \u001b[38;5;66;03m# The reason we repeat the same comment below is that\u001b[39;00m\n\u001b[1;32m    249\u001b[0m \u001b[38;5;66;03m# some Python versions print out the first line of a multi-line function\u001b[39;00m\n\u001b[1;32m    250\u001b[0m \u001b[38;5;66;03m# calls in the traceback and some print out the last line\u001b[39;00m\n\u001b[0;32m--> 251\u001b[0m Variable\u001b[38;5;241m.\u001b[39m_execution_engine\u001b[38;5;241m.\u001b[39mrun_backward(  \u001b[38;5;66;03m# Calls into the C++ engine to run the backward pass\u001b[39;00m\n\u001b[1;32m    252\u001b[0m     tensors,\n\u001b[1;32m    253\u001b[0m     grad_tensors_,\n\u001b[1;32m    254\u001b[0m     retain_graph,\n\u001b[1;32m    255\u001b[0m     create_graph,\n\u001b[1;32m    256\u001b[0m     inputs,\n\u001b[1;32m    257\u001b[0m     allow_unreachable\u001b[38;5;241m=\u001b[39m\u001b[38;5;28;01mTrue\u001b[39;00m,\n\u001b[1;32m    258\u001b[0m     accumulate_grad\u001b[38;5;241m=\u001b[39m\u001b[38;5;28;01mTrue\u001b[39;00m,\n\u001b[1;32m    259\u001b[0m )\n",
      "\u001b[0;31mKeyboardInterrupt\u001b[0m: "
     ]
    }
   ],
   "source": [
    "for epoch in range(num_epochs):\n",
    "    running_loss = 0.0\n",
    "    correct = 0\n",
    "    total = 0\n",
    "    for i,data in enumerate(train_loader):\n",
    "        inputs, labels = data\n",
    "        optimizer.zero_grad()\n",
    "        outputs = model(inputs)\n",
    "        # print(outputs)\n",
    "        loss = criterion(outputs, labels)\n",
    "        loss.backward()\n",
    "        optimizer.step()\n",
    "\n",
    "\n",
    "        running_loss += loss.item()\n",
    "        _, predicted = torch.max(outputs, 1)\n",
    "        total += labels.size(0)\n",
    "        correct += (predicted == labels).sum().item()\n",
    "\n",
    "        if i % 500 == 0:  # Print every 100 mini-batches\n",
    "            print(f'Epoch [{epoch + 1}, {i + 1}] loss: {running_loss / 100}, accuracy: {100 * correct / total}%')\n",
    "            running_loss = 0.0\n",
    "\n",
    "\n",
    "print('Finished Training')"
   ]
  },
  {
   "cell_type": "code",
   "execution_count": null,
   "id": "ac493efc",
   "metadata": {},
   "outputs": [],
   "source": [
    "import torch\n",
    "import torch.nn as nn\n",
    "import torch.optim as optim\n",
    "from torch.utils.data import TensorDataset, DataLoader\n",
    "import matplotlib.pyplot as plt\n",
    "from sklearn.model_selection import train_test_split\n",
    "\n",
    "X_train_torch = torch.tensor(X_train).float()\n",
    "training_labels_torch = torch.tensor(training_labels).long()\n",
    "\n",
    "# Splitting the dataset\n",
    "X_train, X_val, y_train, y_val = train_test_split(X_train_torch, training_labels_torch, stratify=training_labels, test_size=0.2, random_state=42)\n",
    "\n",
    "# Creating TensorDatasets and DataLoaders\n",
    "train_dataset = TensorDataset(X_train, y_train)\n",
    "val_dataset = TensorDataset(X_val, y_val)\n",
    "\n",
    "batch_size = 32\n",
    "train_loader = DataLoader(train_dataset, batch_size=batch_size, shuffle=True)\n",
    "val_loader = DataLoader(val_dataset, batch_size=batch_size)\n",
    "\n",
    "# Define a simple neural network model\n",
    "class SimpleNN(nn.Module):\n",
    "    def __init__(self):\n",
    "        super(SimpleNN, self).__init__()\n",
    "        self.fc1 = nn.Linear(X_train_torch.shape[1], 64)\n",
    "        self.fc2 = nn.Linear(64, 32)\n",
    "        self.fc3 = nn.Linear(32, 16)\n",
    "        self.fc4 = nn.Linear(16, 10)\n",
    "\n",
    "    def forward(self, x):\n",
    "        x = torch.relu(self.fc1(x))\n",
    "        x = torch.relu(self.fc2(x))\n",
    "        x = torch.relu(self.fc3(x))\n",
    "        x = torch.softmax(self.fc4(x), dim=1)\n",
    "        return x\n",
    "\n",
    "model = SimpleNN()\n",
    "\n",
    "# Define loss function and optimizer\n",
    "criterion = nn.CrossEntropyLoss()\n",
    "optimizer = optim.Adam(model.parameters())\n",
    "\n",
    "# Training loop\n",
    "num_epochs = 50\n",
    "train_losses = []\n",
    "val_losses = []\n",
    "train_accuracies = []\n",
    "val_accuracies = []\n",
    "best_val_accuracy = 0.0\n",
    "\n",
    "for epoch in range(num_epochs):\n",
    "    model.train()\n",
    "    running_train_loss = 0.0\n",
    "    correct_train_preds = 0\n",
    "\n",
    "    for inputs, labels in train_loader:\n",
    "        optimizer.zero_grad()\n",
    "        outputs = model(inputs)\n",
    "        loss = criterion(outputs, labels)\n",
    "        loss.backward()\n",
    "        optimizer.step()\n",
    "\n",
    "        running_train_loss += loss.item() * inputs.size(0)\n",
    "        _, predicted = torch.max(outputs, 1)\n",
    "        correct_train_preds += (predicted == labels).sum().item()\n",
    "\n",
    "    epoch_train_loss = running_train_loss / len(train_loader.dataset)\n",
    "    train_losses.append(epoch_train_loss)\n",
    "\n",
    "    train_accuracy = correct_train_preds / len(train_dataset)\n",
    "    train_accuracies.append(train_accuracy)\n",
    "\n",
    "    # Validation\n",
    "    model.eval()\n",
    "    running_val_loss = 0.0\n",
    "    correct_val_preds = 0\n",
    "\n",
    "    with torch.no_grad():\n",
    "        for val_inputs, val_labels in val_loader:\n",
    "            val_outputs = model(val_inputs)\n",
    "            val_loss = criterion(val_outputs, val_labels)\n",
    "            running_val_loss += val_loss.item() * val_inputs.size(0)\n",
    "\n",
    "            _, predicted = torch.max(val_outputs, 1)\n",
    "            correct_val_preds += (predicted == val_labels).sum().item()\n",
    "\n",
    "    epoch_val_loss = running_val_loss / len(val_loader.dataset)\n",
    "    val_losses.append(epoch_val_loss)\n",
    "\n",
    "    val_accuracy = correct_val_preds / len(val_dataset)\n",
    "    val_accuracies.append(val_accuracy)\n",
    "\n",
    "    if val_accuracy > best_val_accuracy:\n",
    "        best_val_accuracy = val_accuracy\n",
    "        torch.save(model.state_dict(), 'best_fnn_model.pth')\n",
    "\n",
    "    print(f'Epoch [{epoch+1}/{num_epochs}], '\n",
    "          f'Training Loss: {epoch_train_loss:.4f}, '\n",
    "          f'Validation Loss: {epoch_val_loss:.4f}, '\n",
    "          f'Training Accuracy: {train_accuracy:.4f}, '\n",
    "          f'Validation Accuracy: {val_accuracy:.4f}')\n",
    "\n",
    "# Plotting training history\n",
    "plt.figure(figsize=(10, 4))\n",
    "plt.subplot(1, 2, 1)\n",
    "plt.plot(train_losses, label='Training Loss')\n",
    "plt.plot(val_losses, label='Validation Loss')\n",
    "plt.xlabel('Epochs')\n",
    "plt.ylabel('Loss')\n",
    "plt.legend()\n",
    "\n",
    "plt.subplot(1, 2, 2)\n",
    "plt.plot(train_accuracies, label='Training Accuracy')\n",
    "plt.plot(val_accuracies, label='Validation Accuracy')\n",
    "plt.xlabel('Epochs')\n",
    "plt.ylabel('Accuracy')\n",
    "plt.legend()\n",
    "plt.tight_layout()\n",
    "plt.show()\n"
   ]
  },
  {
   "cell_type": "code",
   "execution_count": null,
   "id": "8446c722",
   "metadata": {},
   "outputs": [],
   "source": []
  },
  {
   "cell_type": "code",
   "execution_count": null,
   "id": "cb6a755d",
   "metadata": {
    "id": "cb6a755d"
   },
   "outputs": [],
   "source": [
    "# Preparing FashionMNIST data with input size 1x28x28\n",
    "transform = transforms.Compose([\n",
    "    transforms.ToTensor(),  # No resizing needed, as FashionMNIST images are already 28x28\n",
    "])\n",
    "\n",
    "# Define a function to convert labels to one-hot encoding\n",
    "def one_hot_encode_labels(labels, num_classes=10):\n",
    "    return torch.eye(num_classes)[labels]\n",
    "\n",
    "# Download FashionMNIST dataset\n",
    "train_data = torchvision.datasets.FashionMNIST(root='./data', train=True, download=True, transform=transform)\n",
    "test_data = torchvision.datasets.FashionMNIST(root='./data', train=False, download=True, transform=transform)\n",
    "\n",
    "# # Modify the labels to one-hot encoding for both training and testing sets\n",
    "# train_data.targets = one_hot_encode_labels(train_data.targets)\n",
    "# test_data.targets = one_hot_encode_labels(test_data.targets)\n",
    "\n",
    "# Define data loaders\n",
    "train_loader = DataLoader(train_data, batch_size=32, shuffle=True)\n",
    "test_loader = DataLoader(test_data, batch_size=32, shuffle=False)"
   ]
  },
  {
   "cell_type": "code",
   "execution_count": null,
   "id": "1852aea5",
   "metadata": {
    "colab": {
     "base_uri": "https://localhost:8080/"
    },
    "id": "1852aea5",
    "outputId": "91efa24e-6508-47cd-e09c-cb9dcf43f838"
   },
   "outputs": [],
   "source": [
    "print(train_data.targets.shape)\n",
    "for i in train_loader:\n",
    "    print(type(i),len(i))\n",
    "    print(i[0].shape, i[1].shape)\n",
    "    print(i[1])\n",
    "    break"
   ]
  },
  {
   "cell_type": "code",
   "execution_count": null,
   "id": "8cfb9b57",
   "metadata": {
    "id": "8cfb9b57"
   },
   "outputs": [],
   "source": [
    "num_epochs = 10\n",
    "# display_step = 500\n",
    "# batch_size = 32\n",
    "lr = 0.01\n",
    "# momentum=0.9"
   ]
  },
  {
   "cell_type": "code",
   "execution_count": null,
   "id": "2321015f",
   "metadata": {
    "id": "2321015f"
   },
   "outputs": [],
   "source": [
    "# Define optimizer and criterion\n",
    "criterion = torch.nn.CrossEntropyLoss()\n",
    "optimizer = torch.optim.Adam(model.parameters(), lr=lr)"
   ]
  },
  {
   "cell_type": "code",
   "execution_count": null,
   "id": "9edabf89",
   "metadata": {
    "colab": {
     "base_uri": "https://localhost:8080/"
    },
    "id": "9edabf89",
    "outputId": "569c4c70-2f32-460e-ea0f-d2ecb36e4ce1"
   },
   "outputs": [],
   "source": [
    "for epoch in range(num_epochs):\n",
    "    running_loss = 0.0\n",
    "    correct = 0\n",
    "    total = 0\n",
    "    for i,data in enumerate(train_loader):\n",
    "        inputs, labels = data\n",
    "        optimizer.zero_grad()\n",
    "        outputs = model(inputs)\n",
    "        # print(outputs)\n",
    "        loss = criterion(outputs, labels)\n",
    "        loss.backward()\n",
    "        optimizer.step()\n",
    "\n",
    "\n",
    "        running_loss += loss.item()\n",
    "        _, predicted = torch.max(outputs, 1)\n",
    "        total += labels.size(0)\n",
    "        correct += (predicted == labels).sum().item()\n",
    "\n",
    "        if i % 500 == 0:  # Print every 100 mini-batches\n",
    "            print(f'Epoch [{epoch + 1}, {i + 1}] loss: {running_loss / 100}, accuracy: {100 * correct / total}%')\n",
    "            running_loss = 0.0\n",
    "\n",
    "\n",
    "print('Finished Training')"
   ]
  },
  {
   "cell_type": "code",
   "execution_count": null,
   "id": "04-pYJjPGutC",
   "metadata": {
    "colab": {
     "base_uri": "https://localhost:8080/"
    },
    "id": "04-pYJjPGutC",
    "outputId": "8da19c60-3473-4c21-89b9-a976f54498e9"
   },
   "outputs": [],
   "source": [
    "# Set the model to evaluation mode\n",
    "model.eval()\n",
    "\n",
    "test_loss = 0.0\n",
    "test_correct = 0\n",
    "test_total = 0\n",
    "\n",
    "with torch.no_grad():\n",
    "    for i, data in enumerate(test_loader):\n",
    "        inputs, labels = data\n",
    "        outputs = model(inputs)\n",
    "        loss = criterion(outputs, labels)\n",
    "\n",
    "        test_loss += loss.item()\n",
    "        _, predicted = torch.max(outputs, 1)\n",
    "        test_total += labels.size(0)\n",
    "        test_correct += (predicted == labels).sum().item()\n",
    "\n",
    "# Calculate average test loss and accuracy\n",
    "average_test_loss = test_loss / len(test_loader)\n",
    "test_accuracy = 100 * test_correct / test_total\n",
    "\n",
    "print(f'Test Loss: {average_test_loss}, Test Accuracy: {test_accuracy}%')\n"
   ]
  },
  {
   "cell_type": "code",
   "execution_count": null,
   "id": "1d12c08e",
   "metadata": {
    "id": "1d12c08e"
   },
   "outputs": [],
   "source": [
    "# # Assuming your input size is 224x224 for VGG16\n",
    "# # Modify this according to your dataset\n",
    "# input_size = 224\n",
    "\n",
    "# for epoch in range(num_epochs):\n",
    "#     vgg16.train()\n",
    "#     running_loss = 0.0\n",
    "#     for i, data in enumerate(train_loader, 0):\n",
    "#         inputs, labels = data\n",
    "#         # Assuming data is in correct format, modify according to your dataset\n",
    "\n",
    "#         # Zero the parameter gradients\n",
    "#         optimizer.zero_grad()\n",
    "\n",
    "#         # Forward + backward + optimize\n",
    "#         outputs = vgg16(inputs)\n",
    "#         loss = criterion(outputs, labels)\n",
    "#         loss.backward()\n",
    "#         optimizer.step()\n",
    "\n",
    "#         # Print statistics\n",
    "#         running_loss += loss.item()\n",
    "#         if i % 100 == 99:  # Print every 100 mini-batches\n",
    "#             print(f'Epoch [{epoch + 1}, {i + 1}] loss: {running_loss / 100}')\n",
    "#             running_loss = 0.0\n",
    "\n",
    "# print('Finished Training')"
   ]
  },
  {
   "cell_type": "code",
   "execution_count": null,
   "id": "b5265d2a",
   "metadata": {
    "id": "b5265d2a"
   },
   "outputs": [],
   "source": [
    "# # Freeze the pre-trained layers\n",
    "# for param in vgg16.parameters():\n",
    "#     param.requires_grad = False\n",
    "\n",
    "# # Replace the classifier with your own fully connected layers\n",
    "# num_features = vgg16.classifier[6].in_features\n",
    "# features = list(vgg16.classifier.children())[:-1]  # Remove the last layer\n",
    "# features.extend([torch.nn.Linear(num_features, 1024)])  # Add your own layers\n",
    "# features.extend([torch.nn.ReLU(inplace=True)])\n",
    "# features.extend([torch.nn.Linear(1024, 10)])  # Assuming you have 10 output classes\n",
    "\n",
    "# vgg16.classifier = torch.nn.Sequential(*features)\n",
    "\n",
    "# # Assuming your input size is 224x224 for VGG16\n",
    "# # Modify this according to your dataset\n",
    "# input_size = 224\n",
    "\n",
    "# # Define other hyperparameters like learning rate, optimizer, etc.\n",
    "# # criterion = ...\n",
    "# # optimizer = ...\n",
    "\n",
    "# # Example: Define your dataset and data loaders\n",
    "# # train_loader = ...\n",
    "# # test_loader = ...\n",
    "\n",
    "# # Training loop\n",
    "# num_epochs = 5\n",
    "# for epoch in range(num_epochs):\n",
    "#     vgg16.train()\n",
    "#     running_loss = 0.0\n",
    "#     for i, data in enumerate(train_loader, 0):\n",
    "#         inputs, labels = data\n",
    "#         # Assuming data is in correct format, modify according to your dataset\n",
    "\n",
    "#         # Zero the parameter gradients\n",
    "#         optimizer.zero_grad()\n",
    "\n",
    "#         # Forward + backward + optimize\n",
    "#         outputs = vgg16(inputs)\n",
    "#         loss = criterion(outputs, labels)\n",
    "#         loss.backward()\n",
    "#         optimizer.step()\n",
    "\n",
    "#         # Print statistics\n",
    "#         running_loss += loss.item()\n",
    "#         if i % 100 == 99:  # Print every 100 mini-batches\n",
    "#             print(f'Epoch [{epoch + 1}, {i + 1}] loss: {running_loss / 100}')\n",
    "#             running_loss = 0.0\n",
    "\n",
    "# print('Finished Training')ax\n",
    "\n",
    "# # Evaluate your model\n",
    "# vgg16.eval()\n",
    "# correct = 0\n",
    "# total = 0\n",
    "# with torch.no_grad():\n",
    "#     for data in test_loader:\n",
    "#         images, labels = data\n",
    "#         outputs = vgg16(images)\n",
    "#         _, predicted = torch.max(outputs.data, 1)\n",
    "#         total += labels.size(0)\n",
    "#         correct += (predicted == labels).sum().item()\n",
    "\n",
    "# print(f'Accuracy of the network on the test images: {100 * correct / total}%')\n"
   ]
  },
  {
   "cell_type": "code",
   "execution_count": null,
   "id": "6b6a77cc",
   "metadata": {
    "id": "6b6a77cc"
   },
   "outputs": [],
   "source": [
    "# summary(vgg16, (1,56,56))"
   ]
  },
  {
   "cell_type": "code",
   "execution_count": null,
   "id": "7d395ecd",
   "metadata": {
    "id": "7d395ecd"
   },
   "outputs": [],
   "source": []
  }
 ],
 "metadata": {
  "colab": {
   "provenance": []
  },
  "kernelspec": {
   "display_name": "Python 3 (ipykernel)",
   "language": "python",
   "name": "python3"
  },
  "language_info": {
   "codemirror_mode": {
    "name": "ipython",
    "version": 3
   },
   "file_extension": ".py",
   "mimetype": "text/x-python",
   "name": "python",
   "nbconvert_exporter": "python",
   "pygments_lexer": "ipython3",
   "version": "3.11.5"
  }
 },
 "nbformat": 4,
 "nbformat_minor": 5
}
